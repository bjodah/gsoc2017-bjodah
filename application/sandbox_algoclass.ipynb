{
 "cells": [
  {
   "cell_type": "code",
   "execution_count": null,
   "metadata": {
    "collapsed": true
   },
   "outputs": [],
   "source": [
    "import sympy as sp\n",
    "from demologsumexp import logsumexp\n",
    "from mockups import CPrinter"
   ]
  },
  {
   "cell_type": "code",
   "execution_count": null,
   "metadata": {
    "collapsed": true
   },
   "outputs": [],
   "source": [
    "def my_ccode(expr, **kwargs):\n",
    "    return CPrinter(**kwargs).doprint(expr)"
   ]
  },
  {
   "cell_type": "code",
   "execution_count": null,
   "metadata": {
    "collapsed": false
   },
   "outputs": [],
   "source": [
    "symbs = x, y, z = sp.symbols('x y z')\n",
    "lse = logsumexp(symbs)\n",
    "lse"
   ]
  },
  {
   "cell_type": "code",
   "execution_count": null,
   "metadata": {
    "collapsed": false
   },
   "outputs": [],
   "source": [
    "lse.rewrite(sp.log)"
   ]
  },
  {
   "cell_type": "code",
   "execution_count": null,
   "metadata": {
    "collapsed": false
   },
   "outputs": [],
   "source": [
    "from sympy import Range\n",
    "from sympy.codegen.ast import CodeBlock, AddAugmentedAssignment\n",
    "from sympy.codegen.cfunctions import log1p\n",
    "from printerdemo import (\n",
    "    FunctionCall, FunctionDefinition, Pointer, Variable, Declaration,\n",
    "    ReturnStatement, While\n",
    ")"
   ]
  },
  {
   "cell_type": "code",
   "execution_count": null,
   "metadata": {
    "collapsed": false,
    "scrolled": true
   },
   "outputs": [],
   "source": []
  },
  {
   "cell_type": "code",
   "execution_count": null,
   "metadata": {
    "collapsed": false
   },
   "outputs": [],
   "source": [
    "s = sp.Symbol('s')\n",
    "i = sp.Symbol('i', integer=True)\n",
    "n = sp.Symbol('n', integer=True)\n",
    "x = sp.IndexedBase('x', shape=(n,))\n",
    "sp.ccode(x[n-1])"
   ]
  },
  {
   "cell_type": "code",
   "execution_count": null,
   "metadata": {
    "collapsed": false
   },
   "outputs": [],
   "source": [
    "body = CodeBlock(\n",
    "    FunctionCall('sympy_quicksort', (x, n), statement=True),\n",
    "    Declaration(i, 0),\n",
    "    Declaration(s, 0.0),\n",
    "    While(i < n-1, CodeBlock(\n",
    "        AddAugmentedAssignment(s, sp.exp(x[i])),\n",
    "        AddAugmentedAssignment(i, 1)\n",
    "    )),\n",
    "    ReturnStatement(log1p(s) + x[n-1])\n",
    ")\n",
    "fd = FunctionDefinition(\"real\", \"logsumexp\", (x, n), body)"
   ]
  },
  {
   "cell_type": "code",
   "execution_count": null,
   "metadata": {
    "collapsed": false
   },
   "outputs": [],
   "source": [
    "print(my_ccode(fd))"
   ]
  },
  {
   "cell_type": "code",
   "execution_count": null,
   "metadata": {
    "collapsed": false
   },
   "outputs": [],
   "source": [
    "from pprint import pprint\n",
    "pprint(fd)"
   ]
  },
  {
   "cell_type": "code",
   "execution_count": null,
   "metadata": {
    "collapsed": true
   },
   "outputs": [],
   "source": []
  }
 ],
 "metadata": {
  "kernelspec": {
   "display_name": "Python 3",
   "language": "python",
   "name": "python3"
  },
  "language_info": {
   "codemirror_mode": {
    "name": "ipython",
    "version": 3
   },
   "file_extension": ".py",
   "mimetype": "text/x-python",
   "name": "python",
   "nbconvert_exporter": "python",
   "pygments_lexer": "ipython3",
   "version": "3.5.2"
  }
 },
 "nbformat": 4,
 "nbformat_minor": 2
}
