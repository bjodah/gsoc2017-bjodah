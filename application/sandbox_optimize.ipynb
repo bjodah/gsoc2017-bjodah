{
 "cells": [
  {
   "cell_type": "code",
   "execution_count": null,
   "metadata": {
    "collapsed": false,
    "deletable": true,
    "editable": true
   },
   "outputs": [],
   "source": [
    "import sympy as sp\n",
    "from sympy import log, exp, Symbol, Pow, Wild\n",
    "from sympy.codegen.cfunctions import log2, exp2\n",
    "from optimize import optimize, ReplaceOptim\n",
    "sp.init_printing()"
   ]
  },
  {
   "cell_type": "code",
   "execution_count": null,
   "metadata": {
    "collapsed": false,
    "deletable": true,
    "editable": true
   },
   "outputs": [],
   "source": [
    "exp_opt = ReplaceOptim(\n",
    "    lambda p: (isinstance(p, Pow)\n",
    "               and p.base == 2),\n",
    "    lambda p: exp2(p.exp)\n",
    ")\n",
    "\n",
    "w = Wild('w')\n",
    "log_opt = ReplaceOptim(log(w)/log(2), log2(w))"
   ]
  },
  {
   "cell_type": "code",
   "execution_count": null,
   "metadata": {
    "collapsed": false,
    "deletable": true,
    "editable": true
   },
   "outputs": [],
   "source": [
    "x = Symbol('x')\n",
    "expr = 1 + 2**x + log(3*x + 5)/(log(2))\n",
    "expr"
   ]
  },
  {
   "cell_type": "code",
   "execution_count": null,
   "metadata": {
    "collapsed": false,
    "deletable": true,
    "editable": true
   },
   "outputs": [],
   "source": [
    "opt_expr = optimize(expr, [exp_opt, log_opt])\n",
    "opt_expr"
   ]
  },
  {
   "cell_type": "code",
   "execution_count": null,
   "metadata": {
    "collapsed": false,
    "deletable": true,
    "editable": true
   },
   "outputs": [],
   "source": [
    "opt_expr.rewrite(Pow)"
   ]
  },
  {
   "cell_type": "code",
   "execution_count": null,
   "metadata": {
    "collapsed": false,
    "deletable": true,
    "editable": true
   },
   "outputs": [],
   "source": [
    "opt_expr.rewrite(log)"
   ]
  },
  {
   "cell_type": "code",
   "execution_count": null,
   "metadata": {
    "collapsed": false,
    "deletable": true,
    "editable": true
   },
   "outputs": [],
   "source": [
    "expr2 = 1 + 2**x + log(3*x + 5)/(2*log(2))\n",
    "expr2"
   ]
  },
  {
   "cell_type": "code",
   "execution_count": null,
   "metadata": {
    "collapsed": false,
    "deletable": true,
    "editable": true
   },
   "outputs": [],
   "source": [
    "optimize(expr2, [exp_opt, log_opt])"
   ]
  },
  {
   "cell_type": "code",
   "execution_count": null,
   "metadata": {
    "collapsed": false,
    "deletable": true,
    "editable": true
   },
   "outputs": [],
   "source": [
    "v = Wild('v')\n",
    "log_opt_alt = ReplaceOptim(v*log(w)/(log(2)), v*log2(w))\n",
    "optimize(expr2, [exp_opt, log_opt_alt])"
   ]
  },
  {
   "cell_type": "code",
   "execution_count": null,
   "metadata": {
    "collapsed": false,
    "deletable": true,
    "editable": true
   },
   "outputs": [],
   "source": [
    "expr3 = 1 + 2**x + 13*log(3*x + 5)/(log(2))\n",
    "optimize(expr3, [exp_opt, log_opt_alt])"
   ]
  },
  {
   "cell_type": "code",
   "execution_count": null,
   "metadata": {
    "collapsed": false,
    "deletable": true,
    "editable": true
   },
   "outputs": [],
   "source": [
    "expr4 = 1 + 2**x + 13*log(3*x + 5)/(log(3))\n",
    "expr4_opt = optimize(expr4, [exp_opt, log_opt_alt])\n",
    "expr4_opt"
   ]
  },
  {
   "cell_type": "code",
   "execution_count": null,
   "metadata": {
    "collapsed": false,
    "deletable": true,
    "editable": true
   },
   "outputs": [],
   "source": [
    "expr4_opt.count(log) + expr4_opt.count(log2)"
   ]
  },
  {
   "cell_type": "code",
   "execution_count": null,
   "metadata": {
    "collapsed": true,
    "deletable": true,
    "editable": true
   },
   "outputs": [],
   "source": [
    "def optim_log2(expr, relative_cost_of_log2=1):\n",
    "    return optimize(expr, [ReplaceOptim(\n",
    "        v*log(w)/(log(2)), v*log2(w),\n",
    "        cost_function=lambda expr: expr.count(log) + relative_cost_of_log2*expr.count(log2))])"
   ]
  },
  {
   "cell_type": "code",
   "execution_count": null,
   "metadata": {
    "collapsed": false,
    "deletable": true,
    "editable": true,
    "scrolled": true
   },
   "outputs": [],
   "source": [
    "optim_log2(log(x)/log(2))"
   ]
  },
  {
   "cell_type": "code",
   "execution_count": null,
   "metadata": {
    "collapsed": false,
    "deletable": true,
    "editable": true
   },
   "outputs": [],
   "source": [
    "optim_log2(log(x)/log(3))"
   ]
  },
  {
   "cell_type": "code",
   "execution_count": null,
   "metadata": {
    "collapsed": false,
    "deletable": true,
    "editable": true
   },
   "outputs": [],
   "source": [
    "optim_log2(log(x)/log(3), relative_cost_of_log2=.7)"
   ]
  },
  {
   "cell_type": "code",
   "execution_count": null,
   "metadata": {
    "collapsed": true,
    "deletable": true,
    "editable": true
   },
   "outputs": [],
   "source": []
  }
 ],
 "metadata": {
  "kernelspec": {
   "display_name": "Python 3",
   "language": "python",
   "name": "python3"
  },
  "language_info": {
   "codemirror_mode": {
    "name": "ipython",
    "version": 3
   },
   "file_extension": ".py",
   "mimetype": "text/x-python",
   "name": "python",
   "nbconvert_exporter": "python",
   "pygments_lexer": "ipython3",
   "version": "3.5.2"
  }
 },
 "nbformat": 4,
 "nbformat_minor": 2
}
